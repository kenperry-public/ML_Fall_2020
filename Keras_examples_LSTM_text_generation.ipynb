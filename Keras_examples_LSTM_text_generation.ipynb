{
 "cells": [
  {
   "cell_type": "code",
   "execution_count": 1,
   "metadata": {
    "colab": {
     "base_uri": "https://localhost:8080/"
    },
    "id": "4PLjiZkWIwGJ",
    "outputId": "c1ab9209-a0c5-4d0e-9dea-72566860d29e"
   },
   "outputs": [],
   "source": [
    "try:\n",
    "  from google.colab import drive\n",
    "  IN_COLAB=True\n",
    "except:\n",
    "  IN_COLAB=False\n",
    "\n",
    "if IN_COLAB:\n",
    "  print(\"We're running Colab\")"
   ]
  },
  {
   "cell_type": "code",
   "execution_count": 2,
   "metadata": {
    "colab": {
     "base_uri": "https://localhost:8080/"
    },
    "id": "uygaR2nLI0mk",
    "outputId": "b98cadfe-8ce2-4a97-8f49-a49feb7cef94"
   },
   "outputs": [
    {
     "name": "stdout",
     "output_type": "stream",
     "text": [
      "Running TensorFlow version  2.0.0\n",
      "Version 2, minor 0\n"
     ]
    }
   ],
   "source": [
    "import tensorflow as tf\n",
    "\n",
    "print(\"Running TensorFlow version \",tf.__version__)\n",
    "\n",
    "# Parse tensorflow version\n",
    "import re\n",
    "\n",
    "version_match = re.match(\"([0-9]+)\\.([0-9]+)\", tf.__version__)\n",
    "tf_major, tf_minor = int(version_match.group(1)) , int(version_match.group(2))\n",
    "print(\"Version {v:d}, minor {m:d}\".format(v=tf_major, m=tf_minor) )"
   ]
  },
  {
   "cell_type": "markdown",
   "metadata": {
    "id": "DcRfl7sNhboO"
   },
   "source": [
    "# Derived from https://keras.io/examples/lstm_text_generation/"
   ]
  },
  {
   "cell_type": "code",
   "execution_count": 3,
   "metadata": {
    "colab": {
     "base_uri": "https://localhost:8080/"
    },
    "id": "w-IH2DOpf5XZ",
    "outputId": "1ae1bac8-68ac-4cca-9c20-b358cd6207e7"
   },
   "outputs": [],
   "source": [
    "MODEL_DIR = \"/tmp\"\n",
    "\n",
    "if IN_COLAB:\n",
    "    from google.colab import drive\n",
    "    drive.mount('/content/gdrive')\n",
    "\n",
    "    DRIVE_DIR=\"/content/gdrive/My Drive/\"\n",
    "    MODEL_DIR=os.path.join(DRIVE_DIR, \"Colab Notebooks\", \"NYU\", \"Models\")\n",
    "    modelDirExists = True if os.path.isdir(MODEL_DIR) else False\n",
    "\n",
    "    if modelDirExists:\n",
    "      print(\"Saving checkpoints to \", MODEL_DIR)"
   ]
  },
  {
   "cell_type": "markdown",
   "metadata": {
    "id": "q6pLOKSng1zy"
   },
   "source": [
    "# Standard imports"
   ]
  },
  {
   "cell_type": "code",
   "execution_count": 4,
   "metadata": {
    "id": "1Vb7M8JELpAP"
   },
   "outputs": [],
   "source": [
    "from __future__ import print_function\n",
    "import tensorflow as tf\n",
    "\n",
    "\n",
    "from tensorflow.keras.callbacks import ModelCheckpoint, LambdaCallback\n",
    "\n",
    "from tensorflow.keras.models import Sequential\n",
    "from tensorflow.keras.layers import Dense\n",
    "from tensorflow.keras.layers import LSTM\n",
    "from tensorflow.keras.optimizers import RMSprop\n",
    "from tensorflow.keras.utils import get_file\n",
    "import numpy as np\n",
    "import random\n",
    "import sys\n",
    "import io\n",
    "import os\n",
    "\n",
    "from tensorflow.keras.utils import plot_model\n",
    "import IPython\n",
    "\n"
   ]
  },
  {
   "cell_type": "markdown",
   "metadata": {
    "id": "rOI2b8gvg9yN"
   },
   "source": [
    "# Get the text file\n",
    "- create maps to map between characters and their integer encodings\n",
    "  - from character to integer\n",
    "  - from integer to character"
   ]
  },
  {
   "cell_type": "code",
   "execution_count": 5,
   "metadata": {
    "colab": {
     "base_uri": "https://localhost:8080/"
    },
    "id": "vNRoCXtug8oX",
    "outputId": "6db8ef3a-298e-4c6d-af3f-024c7a76996d"
   },
   "outputs": [
    {
     "name": "stdout",
     "output_type": "stream",
     "text": [
      "corpus length: 600893\n",
      "total chars: 56\n"
     ]
    }
   ],
   "source": [
    "path = get_file(\n",
    "    'nietzsche.txt',\n",
    "    origin='https://s3.amazonaws.com/text-datasets/nietzsche.txt')\n",
    "with io.open(path, encoding='utf-8') as f:\n",
    "    text = f.read().lower()\n",
    "\n",
    "eliminateBreaks = True\n",
    "if eliminateBreaks:\n",
    "    text = text.replace(\"\\n\", \" \")\n",
    "    \n",
    "print('corpus length:', len(text))\n",
    "\n",
    "chars = sorted(list(set(text)))\n",
    "print('total chars:', len(chars))\n",
    "char_indices = dict((c, i) for i, c in enumerate(chars))\n",
    "indices_char = dict((i, c) for i, c in enumerate(chars))\n"
   ]
  },
  {
   "cell_type": "markdown",
   "metadata": {
    "id": "JXrmtsAthNMx"
   },
   "source": [
    "# Prepare the training data: creating example sequences/targets\n",
    "- example i: maxlen consecuitve characters\n",
    "  - text[i:i+ maxlen] training example: $x^{(i)}$\n",
    "  - text[maxlen] target: $y^{(i)}$\n"
   ]
  },
  {
   "cell_type": "code",
   "execution_count": 6,
   "metadata": {
    "colab": {
     "base_uri": "https://localhost:8080/"
    },
    "id": "GZdPuW6EgCRS",
    "outputId": "1d361bd3-4fe5-46f6-f104-510da89b8e0d"
   },
   "outputs": [
    {
     "name": "stdout",
     "output_type": "stream",
     "text": [
      "nb sequences: 200285\n"
     ]
    }
   ],
   "source": [
    "# cut the text in semi-redundant sequences of maxlen characters\n",
    "maxlen = 40\n",
    "step = 3\n",
    "sentences = []\n",
    "next_chars = []\n",
    "for i in range(0, len(text) - maxlen, step):\n",
    "    sentences.append(text[i: i + maxlen])\n",
    "    next_chars.append(text[i + maxlen])\n",
    "print('nb sequences:', len(sentences))\n",
    "\n"
   ]
  },
  {
   "cell_type": "markdown",
   "metadata": {
    "id": "gMnLQsslpA76"
   },
   "source": [
    "# Examine the prepared input: \n",
    "- x: a prefix (of length maxlen)\n",
    "- y: the following character"
   ]
  },
  {
   "cell_type": "code",
   "execution_count": 7,
   "metadata": {
    "colab": {
     "base_uri": "https://localhost:8080/"
    },
    "id": "Y77yYH68oV1S",
    "outputId": "bc7fed42-b272-4a5b-b691-6d04ea4d520d"
   },
   "outputs": [
    {
     "name": "stdout",
     "output_type": "stream",
     "text": [
      " i                     x                             y\n",
      "   ___________________________________________________\n",
      "[0]\tpreface   supposing that truth is a woma  |  n\n",
      "[1]\tface   supposing that truth is a woman--  |  w\n",
      "[2]\te   supposing that truth is a woman--wha  |  t\n",
      "[3]\t supposing that truth is a woman--what t  |  h\n",
      "[4]\tpposing that truth is a woman--what then  |  ?\n",
      "[5]\tsing that truth is a woman--what then? i  |  s\n",
      "[6]\tg that truth is a woman--what then? is t  |  h\n",
      "[7]\that truth is a woman--what then? is ther  |  e\n",
      "[8]\t truth is a woman--what then? is there n  |  o\n",
      "[9]\tuth is a woman--what then? is there not   |  g\n"
     ]
    }
   ],
   "source": [
    "pad = len(sentences[0]) // 2\n",
    "print(\" i \" +  \" \" * pad + \"x\" + \" \" * pad + \"         \" + \"y\")\n",
    "print(\"   \" +  \"_\" * pad + \"_\" + \"_\" * pad + \"_________\" + \"_\")\n",
    "\n",
    "\n",
    "    \n",
    "for i, example in enumerate( zip(sentences, next_chars)):\n",
    "  if i > 9: break\n",
    "  else: pass\n",
    "  (sentence, next_char) = example\n",
    "  print(\"[{i:d}]\\t{sent:s}  |  {targ:s}\".format(i=i, sent=sentence.replace(\"\\n\", \" \"), targ=next_char))"
   ]
  },
  {
   "cell_type": "markdown",
   "metadata": {
    "id": "6O5sy7RWiJGj"
   },
   "source": [
    "# One Hot Encode the characters \n",
    "- in $x^{(i)},  y^{(i)}$"
   ]
  },
  {
   "cell_type": "code",
   "execution_count": 8,
   "metadata": {
    "colab": {
     "base_uri": "https://localhost:8080/"
    },
    "id": "kzkczyaeh8k5",
    "outputId": "d0391eac-729c-48f4-bf8a-574cfec0cde4"
   },
   "outputs": [
    {
     "name": "stdout",
     "output_type": "stream",
     "text": [
      "Vectorization...\n"
     ]
    }
   ],
   "source": [
    "print('Vectorization...')\n",
    "x = np.zeros((len(sentences), maxlen, len(chars)), dtype=np.bool)\n",
    "y = np.zeros((len(sentences), len(chars)), dtype=np.bool)\n",
    "for i, sentence in enumerate(sentences):\n",
    "    for t, char in enumerate(sentence):\n",
    "        x[i, t, char_indices[char]] = 1\n",
    "    y[i, char_indices[next_chars[i]]] = 1\n",
    "\n",
    "\n"
   ]
  },
  {
   "cell_type": "markdown",
   "metadata": {
    "id": "co02Jvz6lQe0"
   },
   "source": [
    "# Examine the input shape\n",
    "- $x^{(i)}_{(t),j}$ is found at  $x[ i, t, j ]$\n",
    "\n",
    "  - example i\n",
    "  - time step/sequence element t\n",
    "  - a sequence element is a vector, index at position j\n",
    "    - length of OHE (number of distinct characters)"
   ]
  },
  {
   "cell_type": "code",
   "execution_count": 9,
   "metadata": {
    "colab": {
     "base_uri": "https://localhost:8080/"
    },
    "id": "8yxV52HOlS_e",
    "outputId": "00175fd7-213c-41af-da7f-f429d2973b74"
   },
   "outputs": [
    {
     "name": "stdout",
     "output_type": "stream",
     "text": [
      "X shape:  (200285, 40, 56)\n",
      "\tNumber of examples:  200285\n",
      "\tEach example is sequence of length  40\n",
      "\tEach element of the sequence is of length  56\n"
     ]
    }
   ],
   "source": [
    "print(\"X shape: \", x.shape)\n",
    "print(\"\\tNumber of examples: \", x.shape[0])\n",
    "print(\"\\tEach example is sequence of length \", x.shape[1])\n",
    "print(\"\\tEach element of the sequence is of length \", x.shape[2])"
   ]
  },
  {
   "cell_type": "markdown",
   "metadata": {
    "id": "Ao6DVrY1iV5v"
   },
   "source": [
    "# Utility routines\n",
    "\n",
    "The sample routine\n",
    "- takes the probability vector (one probability per potential next character)\n",
    "- uses it to randomly sample the next character to produce\n",
    "- `temperature`\n",
    "  - our model produces a probability from a score, using the softmax, as usual for Classifiers that we have studied\n",
    "  - softmax exagerates small differences in the score into larger differences in probability\n",
    "  - the `temperature` controls the degree of exageration\n",
    "- the routine recalculates the probability, using the desired temperature before sampling\n",
    "\n"
   ]
  },
  {
   "cell_type": "code",
   "execution_count": 10,
   "metadata": {
    "id": "t0OzYFF8iYWJ"
   },
   "outputs": [],
   "source": [
    "def createModel():\n",
    "  model = Sequential()\n",
    "  model.add(LSTM(128, input_shape=(maxlen, len(chars))))\n",
    "  model.add(Dense(len(chars), activation='softmax'))\n",
    "\n",
    "  return model\n",
    "\n",
    "def plotModel(model, modelName):\n",
    "  plotFile = modelName + \".png\"\n",
    "  plot_model(model, plotFile, show_shapes=True)\n",
    "\n",
    "  return plotFile\n",
    "  \n",
    "def sample(preds, temperature=1.0):\n",
    "    # helper function to sample an index from a probability array\n",
    "    preds = np.asarray(preds).astype('float64')\n",
    "    preds = np.log(preds) / temperature\n",
    "    exp_preds = np.exp(preds)\n",
    "    preds = exp_preds / np.sum(exp_preds)\n",
    "    probas = np.random.multinomial(1, preds, 1)\n",
    "    return np.argmax(probas)\n",
    "\n",
    "\n",
    "def on_epoch_end(epoch, _):\n",
    "    # Function invoked at end of each epoch. Prints generated text.\n",
    "    print()\n",
    "    print('----- Generating text after Epoch: %d' % epoch)\n",
    "\n",
    "    start_index = random.randint(0, len(text) - maxlen - 1)\n",
    "    diversities = [0.2, 0.5, 1.0, 1.2]\n",
    "    for diversity in diversities[:2]:\n",
    "        # print('----- diversity:', diversity)\n",
    "\n",
    "        generated = ''\n",
    "        sentence = text[start_index: start_index + maxlen]\n",
    "        generated += sentence\n",
    "        print('\\n----- Generating with seed (diversity={d:3.2f}): \"{sent:s}\"\\n\\t'.format(d=diversity, sent=sentence) )\n",
    "        sys.stdout.write(generated)\n",
    "\n",
    "        for i in range(400):\n",
    "            x_pred = np.zeros((1, maxlen, len(chars)))\n",
    "            for t, char in enumerate(sentence):\n",
    "                x_pred[0, t, char_indices[char]] = 1.\n",
    "\n",
    "            preds = model.predict(x_pred, verbose=0)[0]\n",
    "            next_index = sample(preds, diversity)\n",
    "            next_char = indices_char[next_index]\n",
    "\n",
    "            sentence = sentence[1:] + next_char\n",
    "\n",
    "            sys.stdout.write(next_char)\n",
    "            sys.stdout.flush()\n",
    "        print()\n",
    "\n"
   ]
  },
  {
   "cell_type": "code",
   "execution_count": 11,
   "metadata": {
    "colab": {
     "base_uri": "https://localhost:8080/",
     "height": 329
    },
    "id": "LdA-rpuZgFJf",
    "outputId": "9a6b847b-5f04-4260-b027-8e90719c51a7"
   },
   "outputs": [
    {
     "name": "stdout",
     "output_type": "stream",
     "text": [
      "Build model...\n"
     ]
    },
    {
     "data": {
      "image/png": "[encoded data removed]",
      "text/plain": [
       "<IPython.core.display.Image object>"
      ]
     },
     "execution_count": 11,
     "metadata": {},
     "output_type": "execute_result"
    }
   ],
   "source": [
    "# build the model: a single LSTM\n",
    "print('Build model...')\n",
    "model = createModel()\n",
    "\n",
    "optimizer = RMSprop(lr=0.01)\n",
    "model.compile(loss='categorical_crossentropy') #, optimizer=optimizer)\n",
    "\n",
    "plotFile = plotModel(model, \"first_model\")\n",
    "IPython.display.Image(plotFile) \n",
    "\n"
   ]
  },
  {
   "cell_type": "markdown",
   "metadata": {
    "id": "HVmgE2nijpXc"
   },
   "source": [
    "# Resume training from existing weights ?"
   ]
  },
  {
   "cell_type": "code",
   "execution_count": 12,
   "metadata": {
    "id": "SQgyqPmoi_47"
   },
   "outputs": [],
   "source": [
    "modelFile = os.path.join(MODEL_DIR, \"lstm_text_gen-loss_1.2006.h5\") # None\n",
    "\n",
    "if modelFile is not None and os.path.exists(modelFile):\n",
    "  print(\"Initializing with weights from \", modelFile)\n",
    "  model.load_weights(modelFile)"
   ]
  },
  {
   "cell_type": "code",
   "execution_count": 13,
   "metadata": {
    "id": "jTjuOEXzi1ly"
   },
   "outputs": [],
   "source": [
    "print_callback = LambdaCallback(on_epoch_end=on_epoch_end)\n",
    "\n",
    "ckpt_filepath=os.path.join(MODEL_DIR, \"lstm_text_gen-loss_{loss:.4f}.h5\")\n",
    "checkpoint_callback = ModelCheckpoint(ckpt_filepath, monitor='loss', verbose=1, save_best_only=True, mode='min')\n",
    "\n"
   ]
  },
  {
   "cell_type": "markdown",
   "metadata": {
    "id": "k2zfOK40jusN"
   },
   "source": [
    "# Train"
   ]
  },
  {
   "cell_type": "code",
   "execution_count": null,
   "metadata": {
    "colab": {
     "base_uri": "https://localhost:8080/",
     "height": 1000
    },
    "id": "0dqk9QXrgKCf",
    "outputId": "0dc25ab7-a945-4e2e-9674-f7b671430e59"
   },
   "outputs": [
    {
     "name": "stdout",
     "output_type": "stream",
     "text": [
      "Train on 200285 samples\n",
      "Epoch 1/60\n",
      "200192/200285 [============================>.] - ETA: 0s - loss: 2.4619\n",
      "----- Generating text after Epoch: 0\n",
      "\n",
      "----- Generating with seed (diversity=0.20): \"hs is too great because both are as yet \"\n",
      "\t\n",
      "hs is too great because both are as yet in the whe herest and and and and and at and and in the and and the hand and and and and and and and and the whe here whe hand the the the serenting and andere the are and the whe he sontere the the the andere the here and and and and and and the hant the hand and and the seres and the wall of the wall and the whe he sore the the the the whe here the here the the the the the the the the the hes th\n",
      "\n",
      "----- Generating with seed (diversity=0.50): \"hs is too great because both are as yet \"\n",
      "\t\n",
      "hs is too great because both are as yet and at on te tho herestertane a diont of the the perion wor the whon the the the the sere and and whe s as issent of the artaithinat ond and cois int ora the sense at enteret and it oo thal and and restion porally and it ass and be wat lo the that of the is the thich so ssins ant and andonting it ot the and deserins se piscomecte in al the thes no anesticn the soutine as sesule thit and and the to\n",
      "\n",
      "Epoch 00001: loss improved from inf to 2.46170, saving model to /tmp/lstm_text_gen-loss_2.4617.h5\n",
      "200285/200285 [==============================] - 168s 841us/sample - loss: 2.4617\n",
      "Epoch 2/60\n",
      "200192/200285 [============================>.] - ETA: 0s - loss: 2.0671\n",
      "----- Generating text after Epoch: 1\n",
      "\n",
      "----- Generating with seed (diversity=0.20): \"rs are in the habit of doing--he seems t\"\n",
      "\t\n",
      "rs are in the habit of doing--he seems the somen the sond in the sinting of the serfer and and in the sonding and in the surting and the sore the surting and the sore the serrent of the sinting and the sister and the sering and the sore the will man in the sond in the selfer and and in the will and in the sore the sonting and in the stound and the world and the manting of the sonting of the sond condente and the surtion consed and in th\n",
      "\n",
      "----- Generating with seed (diversity=0.50): \"rs are in the habit of doing--he seems t\"\n",
      "\t\n",
      "rs are in the habit of doing--he seems the rintis and perous, the ore to and the which wore the sowind and and and in wo desting of whith rencesive sore for and whathy in a lese the rontinge in of for mering of are the mong in the sithing a distens in han is poren and with which a dened pretions of the menturs sull what mais of the sore that sorce os wind eay in a sich menes of whim of inders be as in the whoded an the worle of the worl\n",
      "\n",
      "Epoch 00002: loss improved from 2.46170 to 2.06701, saving model to /tmp/lstm_text_gen-loss_2.0670.h5\n",
      "200285/200285 [==============================] - 176s 877us/sample - loss: 2.0670\n",
      "Epoch 3/60\n",
      "200192/200285 [============================>.] - ETA: 0s - loss: 1.9054\n",
      "----- Generating text after Epoch: 2\n",
      "\n",
      "----- Generating with seed (diversity=0.20): \"enmity, ye have at last to play your las\"\n",
      "\t\n",
      "enmity, ye have at last to play your last of the really and been which the preast of the preast of the reare the sure the really the self to be one the serent of the resting of the preast of the preast of the sure the really the sure and the really and more and and and and preast of here preast of the serfich and man and one and preast and deare of the preast of the preseption of the preast the prease for the will and and and so the pre\n",
      "\n",
      "----- Generating with seed (diversity=0.50): \"enmity, ye have at last to play your las\"\n",
      "\t\n",
      "enmity, ye have at last to play your last for has the whil of the sentions the pestented and itself courd in the remand the dereren for the remind and preast as maste the renter of the sone the whoue out the rompertance of the surting the oren and and exertent of the preaternal onter though not a selfing becible to kind and of the ones a the sope who the ane the precass of the whill anter of the remin the presting of ore to derict in un\n",
      "\n",
      "Epoch 00003: loss improved from 2.06701 to 1.90541, saving model to /tmp/lstm_text_gen-loss_1.9054.h5\n",
      "200285/200285 [==============================] - 178s 888us/sample - loss: 1.9054\n",
      "Epoch 4/60\n",
      "200192/200285 [============================>.] - ETA: 0s - loss: 1.7950\n",
      "----- Generating text after Epoch: 3\n",
      "\n",
      "----- Generating with seed (diversity=0.20): \" a hypothesis, then a belief with an acc\"\n",
      "\t\n",
      " a hypothesis, then a belief with an accureation of the prease of the preasent in the present of the suches in the selferent the surent of the still the stain the surtation of the strent of the selfes in the surter and the still the some the mast of the siment of the selfer the still the such in the really the still the selfer to the frees in the since of the considitions of the freeling and the canestion and the starnes of the serferen\n",
      "\n",
      "----- Generating with seed (diversity=0.50): \" a hypothesis, then a belief with an acc\"\n",
      "\t\n",
      " a hypothesis, then a belief with an accuraity and preaspe, the oble somether, in the porit of the touth deed and and itsing the uncersent of the freether to the stares of the stater the sistines to the reess in one presing of the strenting in the precestions and preciente and prowers it is one and its canse of the spister to in the searing that thit the stardes is be oun the liged of the consicule and not not on the love and the instin\n",
      "\n",
      "Epoch 00004: loss improved from 1.90541 to 1.79491, saving model to /tmp/lstm_text_gen-loss_1.7949.h5\n",
      "200285/200285 [==============================] - 166s 828us/sample - loss: 1.7949\n",
      "Epoch 5/60\n",
      "200192/200285 [============================>.] - ETA: 0s - loss: 1.7129\n",
      "----- Generating text after Epoch: 4\n",
      "\n",
      "----- Generating with seed (diversity=0.20): \"to the teachers, the parents, the enviro\"\n",
      "\t\n",
      "to the teachers, the parents, the envirous and the religion of the still the still the some the still the some the present of the string and the some the surtance of the some the some a selfer the some of the strenger and preass and all the present of the still the some has all the promer of the still the some of the same of the still the sempersion of the some of the some the may all the some of the some the some the presing and the wo\n",
      "\n",
      "----- Generating with seed (diversity=0.50): \"to the teachers, the parents, the enviro\"\n",
      "\t\n",
      "to the teachers, the parents, the envirous abon the consiate of surfication of spirity, what the was sife of chartical still become the soul everythess are a constiane still mas is a seems sumpacions of really and such so sone may as a lititule in has fact the will of musis in the really in all the eare that the concemsion of the some the will free dider a moral that the self in the will deead has not the consimitures of a fere the seli\n",
      "\n",
      "Epoch 00005: loss improved from 1.79491 to 1.71288, saving model to /tmp/lstm_text_gen-loss_1.7129.h5\n",
      "200285/200285 [==============================] - 158s 789us/sample - loss: 1.7129\n",
      "Epoch 6/60\n",
      "200192/200285 [============================>.] - ETA: 0s - loss: 1.6474\n",
      "----- Generating text after Epoch: 5\n",
      "\n",
      "----- Generating with seed (diversity=0.20): \"lse!\"--this mode of reasoning discloses \"\n",
      "\t\n",
      "lse!\"--this mode of reasoning discloses and morals the present of the senses and the the moral the prosounded to a sertation of the moral the promoration of the something and and and despers of the surtional of the senses and the respect of the more for the something the prosent"
     ]
    }
   ],
   "source": [
    "callbacks = [print_callback]\n",
    "\n",
    "modelDirExists = True if os.path.isdir(MODEL_DIR) else False\n",
    "if modelDirExists:\n",
    "  callbacks.append(checkpoint_callback)\n",
    "\n",
    "model.fit(x, y,\n",
    "          batch_size=128,\n",
    "          epochs=60,\n",
    "          callbacks=callbacks)"
   ]
  }
 ],
 "metadata": {
  "accelerator": "GPU",
  "colab": {
   "collapsed_sections": [],
   "name": "Keras_examples_LSTM_text_generation.ipynb",
   "provenance": [],
   "toc_visible": true
  },
  "kernelspec": {
   "display_name": "Python 3",
   "language": "python",
   "name": "python3"
  },
  "language_info": {
   "codemirror_mode": {
    "name": "ipython",
    "version": 3
   },
   "file_extension": ".py",
   "mimetype": "text/x-python",
   "name": "python",
   "nbconvert_exporter": "python",
   "pygments_lexer": "ipython3",
   "version": "3.7.4"
  },
  "toc": {
   "base_numbering": 1,
   "nav_menu": {},
   "number_sections": true,
   "sideBar": true,
   "skip_h1_title": false,
   "title_cell": "Table of Contents",
   "title_sidebar": "Contents",
   "toc_cell": false,
   "toc_position": {},
   "toc_section_display": true,
   "toc_window_display": false
  }
 },
 "nbformat": 4,
 "nbformat_minor": 1
}
